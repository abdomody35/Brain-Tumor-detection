{
 "cells": [
  {
   "cell_type": "markdown",
   "id": "9677bfc5",
   "metadata": {},
   "source": [
    "\n",
    "# Brain Tumor Detection Using SVM\n",
    "\n",
    "This notebook guides you through the process of building a Support Vector Machine (SVM) model to detect brain tumors from MRI images. We'll cover the following steps:\n",
    "\n",
    "1. Loading and preprocessing the dataset.\n",
    "2. Building and training the SVM model.\n",
    "3. Performing hyperparameter tuning using GridSearchCV.\n",
    "4. Evaluating the model's performance with various metrics.\n",
    "5. Visualizing the results to gain insights.\n",
    "\n",
    "## Why SVM?\n",
    "SVM is a powerful supervised learning algorithm that is particularly effective for binary classification tasks. By selecting the right kernel and tuning hyperparameters, SVM can create complex decision boundaries, making it suitable for tasks like tumor detection where the data may not be linearly separable.\n",
    "\n",
    "---\n",
    "Get the data from https://www.kaggle.com/datasets/navoneel/brain-mri-images-for-brain-tumor-detection\n",
    "\n",
    "## Loading and Preprocessing the dataset"
   ]
  },
  {
   "cell_type": "code",
   "execution_count": null,
   "id": "89f9f3ef",
   "metadata": {},
   "outputs": [],
   "source": [
    "\n",
    "import os\n",
    "import numpy as np\n",
    "from PIL import Image\n",
    "from sklearn.model_selection import train_test_split\n",
    "from sklearn.preprocessing import StandardScaler\n",
    "\n",
    "# Function to load images from a folder\n",
    "def load_images_from_folder(folder):\n",
    "    images = []\n",
    "    labels = []\n",
    "    for label, subfolder in enumerate(['no', 'yes']):\n",
    "        path = os.path.join(folder, subfolder)\n",
    "        for filename in os.listdir(path):\n",
    "            img_path = os.path.join(path, filename)\n",
    "            try:\n",
    "                img = Image.open(img_path).convert('L')  # Convert to grayscale\n",
    "                img = img.resize((64, 64))  # Resize to a fixed size (64x64 in this case)\n",
    "                img_array = np.array(img).flatten()  # Flatten the image\n",
    "                images.append(img_array)\n",
    "                labels.append(label)\n",
    "            except Exception as e:\n",
    "                print(f\"Error loading image {img_path}: {e}\")\n",
    "    return np.array(images), np.array(labels)\n",
    "\n",
    "# Load the dataset\n",
    "data_folder = './brain_tumor_dataset'\n",
    "X, y = load_images_from_folder(data_folder)\n",
    "\n",
    "# Split the data into training and testing sets\n",
    "X_train, X_test, y_train, y_test = train_test_split(X, y, test_size=0.25, random_state=90)\n",
    "\n",
    "# Feature scaling\n",
    "scaler = StandardScaler()\n",
    "X_train = scaler.fit_transform(X_train)\n",
    "X_test = scaler.transform(X_test)\n",
    "\n",
    "print(\"Data loading and preprocessing complete.\")\n"
   ]
  },
  {
   "cell_type": "markdown",
   "id": "aef52500",
   "metadata": {},
   "source": [
    "## Initialize and Train the model"
   ]
  },
  {
   "cell_type": "code",
   "execution_count": null,
   "id": "6afa956c",
   "metadata": {},
   "outputs": [],
   "source": [
    "\n",
    "from sklearn.svm import SVC\n",
    "\n",
    "# Initialize the SVM model\n",
    "svm_model = SVC(kernel='rbf')\n",
    "\n",
    "# Train the SVM model\n",
    "svm_model.fit(X_train, y_train)\n",
    "\n",
    "print(\"Model initialization and training complete.\")\n"
   ]
  },
  {
   "cell_type": "markdown",
   "id": "bc2adceb",
   "metadata": {},
   "source": [
    "## Save the model"
   ]
  },
  {
   "cell_type": "code",
   "execution_count": null,
   "id": "7edf81b0",
   "metadata": {},
   "outputs": [],
   "source": [
    "\n",
    "import joblib\n",
    "\n",
    "# Save the trained SVM model\n",
    "model_filename = 'brain_tumor_detection_svm_model.sav'\n",
    "joblib.dump(svm_model, model_filename)\n",
    "\n",
    "# Save the scaler\n",
    "scaler_filename = 'brain_tumor_scaler_svm.joblib'\n",
    "joblib.dump(scaler, scaler_filename)\n",
    "\n",
    "print(f\"Trained SVM model saved to {model_filename}\")\n",
    "print(f\"Scaler saved to {scaler_filename}\")\n"
   ]
  },
  {
   "cell_type": "markdown",
   "id": "9286a77d",
   "metadata": {},
   "source": [
    "## Evaluate the model"
   ]
  },
  {
   "cell_type": "code",
   "execution_count": null,
   "id": "2d5fc9de",
   "metadata": {},
   "outputs": [],
   "source": [
    "\n",
    "from sklearn.metrics import classification_report, confusion_matrix\n",
    "\n",
    "# Make predictions using the model\n",
    "y_pred = svm_model.predict(X_test)\n",
    "\n",
    "# Evaluate the model\n",
    "print(confusion_matrix(y_test, y_pred))\n",
    "print(classification_report(y_test, y_pred))\n"
   ]
  },
  {
   "cell_type": "markdown",
   "id": "36f87c64",
   "metadata": {},
   "source": [
    "\n",
    "## Visualization of Model Performance\n",
    "\n",
    "Visualizations play a crucial role in understanding the model's performance. Here are some key visualizations we will create:\n",
    "\n",
    "1. **Confusion Matrix**: Shows the number of correct and incorrect predictions, providing a quick overview of model accuracy.\n",
    "2. **ROC Curve and AUC**: Helps to visualize the trade-off between sensitivity (recall) and specificity.\n",
    "3. **Precision-Recall Curve**: Especially useful in cases of imbalanced datasets, this curve helps to understand the trade-off between precision and recall.\n",
    "4. **Misclassified Images**: Provides insights into where the model is making mistakes by displaying some misclassified examples.\n",
    "\n",
    "### Confusion Matrix:"
   ]
  },
  {
   "cell_type": "code",
   "execution_count": null,
   "id": "12a21747",
   "metadata": {},
   "outputs": [],
   "source": [
    "\n",
    "import seaborn as sns\n",
    "import matplotlib.pyplot as plt\n",
    "\n",
    "# Confusion Matrix\n",
    "cm = confusion_matrix(y_test, y_pred)\n",
    "sns.heatmap(cm, annot=True, fmt=\"d\", cmap=\"Blues\")\n",
    "plt.xlabel('Predicted')\n",
    "plt.ylabel('Actual')\n",
    "plt.title('Confusion Matrix')\n",
    "plt.show()\n"
   ]
  },
  {
   "cell_type": "markdown",
   "id": "b3fb7ce3",
   "metadata": {},
   "source": [
    "### ROC Curve and AUC:"
   ]
  },
  {
   "cell_type": "code",
   "execution_count": null,
   "id": "4541761a",
   "metadata": {},
   "outputs": [],
   "source": [
    "\n",
    "from sklearn.metrics import roc_curve, auc\n",
    "\n",
    "# ROC Curve and AUC\n",
    "fpr, tpr, _ = roc_curve(y_test, y_pred)\n",
    "roc_auc = auc(fpr, tpr)\n",
    "\n",
    "plt.figure()\n",
    "plt.plot(fpr, tpr, color='darkorange', lw=2, label='ROC curve (area = %0.2f)' % roc_auc)\n",
    "plt.plot([0, 1], [0, 1], color='navy', lw=2, linestyle='--')\n",
    "plt.xlim([0.0, 1.0])\n",
    "plt.ylim([0.0, 1.05])\n",
    "plt.xlabel('False Positive Rate')\n",
    "plt.ylabel('True Positive Rate')\n",
    "plt.title('Receiver Operating Characteristic')\n",
    "plt.legend(loc=\"lower right\")\n",
    "plt.show()\n"
   ]
  },
  {
   "cell_type": "markdown",
   "id": "972d4622",
   "metadata": {},
   "source": [
    "### Precision-Recall Curve:"
   ]
  },
  {
   "cell_type": "code",
   "execution_count": null,
   "id": "db8afe9a",
   "metadata": {},
   "outputs": [],
   "source": [
    "\n",
    "from sklearn.metrics import precision_recall_curve\n",
    "\n",
    "# Precision-Recall Curve\n",
    "precision, recall, _ = precision_recall_curve(y_test, y_pred)\n",
    "\n",
    "plt.figure()\n",
    "plt.plot(recall, precision, lw=2, color='blue')\n",
    "plt.xlabel('Recall')\n",
    "plt.ylabel('Precision')\n",
    "plt.title('Precision-Recall Curve')\n",
    "plt.show()\n"
   ]
  },
  {
   "cell_type": "markdown",
   "id": "b0461cf1",
   "metadata": {},
   "source": [
    "### Misclassified Images:"
   ]
  },
  {
   "cell_type": "code",
   "execution_count": null,
   "id": "2911ab8a",
   "metadata": {},
   "outputs": [],
   "source": [
    "\n",
    "# Misclassified Images\n",
    "misclassified_indices = np.where(y_test != y_pred)[0]\n",
    "\n",
    "for index in misclassified_indices:\n",
    "    plt.imshow(X_test[index].reshape(64, 64), cmap='gray')\n",
    "    plt.title(f\"True Label: {y_test[index]}, Predicted: {y_pred[index]}\")\n",
    "    plt.show()\n"
   ]
  }
 ],
 "metadata": {
  "kernelspec": {
   "display_name": "Python 3",
   "language": "python",
   "name": "python3"
  },
  "language_info": {
   "codemirror_mode": {
    "name": "ipython",
    "version": 3
   },
   "file_extension": ".py",
   "mimetype": "text/x-python",
   "name": "python",
   "nbconvert_exporter": "python",
   "pygments_lexer": "ipython3",
   "version": "3.12.3"
  }
 },
 "nbformat": 4,
 "nbformat_minor": 5
}
