{
 "cells": [
  {
   "cell_type": "markdown",
   "metadata": {},
   "source": [
    "\n",
    "# Brain Tumor Detection Using RNN\n",
    "\n",
    "This notebook guides you through the process of building a Recurrent Neural Network (RNN) model to detect brain tumors from MRI images. We'll cover the following steps:\n",
    "\n",
    "1. Loading and preprocessing the dataset.\n",
    "2. Building and training the RNN model.\n",
    "3. Performing hyperparameter tuning for optimal performance.\n",
    "4. Evaluating the model's performance with various metrics.\n",
    "5. Visualizing the results to gain insights.\n",
    "\n",
    "## Why RNN?\n",
    "RNNs are designed to handle sequential data and capture temporal dependencies, making them particularly useful for analyzing medical images that might involve sequences or volumetric data. While RNNs are not typically used for image data directly, when combined with preprocessing or used on sequentially structured image features, they can effectively model patterns indicative of tumor presence.\n",
    "\n",
    "---\n",
    "Get the data from https://www.kaggle.com/datasets/navoneel/brain-mri-images-for-brain-tumor-detection\n",
    "\n",
    "## Loading and Preprocessing the dataset"
   ]
  },
  {
   "cell_type": "code",
   "execution_count": null,
   "metadata": {},
   "outputs": [],
   "source": [
    "\n",
    "import os\n",
    "import numpy as np\n",
    "from PIL import Image\n",
    "from sklearn.model_selection import train_test_split\n",
    "from sklearn.preprocessing import StandardScaler\n",
    "\n",
    "# Function to load images from a folder\n",
    "def load_images_from_folder(folder):\n",
    "    images = []\n",
    "    labels = []\n",
    "    for label, subfolder in enumerate(['no', 'yes']):\n",
    "        path = os.path.join(folder, subfolder)\n",
    "        for filename in os.listdir(path):\n",
    "            img_path = os.path.join(path, filename)\n",
    "            try:\n",
    "                img = Image.open(img_path).convert('L')  # Convert to grayscale\n",
    "                img = img.resize((64, 64))  # Resize to a fixed size (64x64)\n",
    "                img_array = np.array(img).flatten()  # Flatten the image\n",
    "                images.append(img_array)\n",
    "                labels.append(label)\n",
    "            except Exception as e:\n",
    "                print(f\"Error loading image {img_path}: {e}\")\n",
    "    return np.array(images), np.array(labels)\n",
    "\n",
    "# Load the dataset\n",
    "data_folder = './brain_tumor_dataset'\n",
    "X, y = load_images_from_folder(data_folder)\n",
    "\n",
    "# Split the data into training and testing sets\n",
    "X_train, X_test, y_train, y_test = train_test_split(X, y, test_size=0.25, random_state=90)\n",
    "\n",
    "# Feature scaling\n",
    "scaler = StandardScaler()\n",
    "X_train = scaler.fit_transform(X_train)\n",
    "X_test = scaler.transform(X_test)\n",
    "\n",
    "# Reshape data for RNN (samples, timesteps, features)\n",
    "X_train = X_train.reshape((X_train.shape[0], 64, 64))\n",
    "X_test = X_test.reshape((X_test.shape[0], 64, 64))\n",
    "\n",
    "print(\"Data loading and preprocessing complete.\")\n"
   ]
  },
  {
   "cell_type": "markdown",
   "metadata": {},
   "source": [
    "## Initialize and Train the model"
   ]
  },
  {
   "cell_type": "code",
   "execution_count": null,
   "metadata": {},
   "outputs": [],
   "source": [
    "\n",
    "from tensorflow.keras.models import Sequential\n",
    "from tensorflow.keras.layers import SimpleRNN, Dense, Dropout\n",
    "from tensorflow.keras.optimizers import Adam\n",
    "\n",
    "# Initialize the RNN model\n",
    "rnn_model = Sequential([\n",
    "    SimpleRNN(64, activation='relu', input_shape=(64, 64), return_sequences=True),\n",
    "    Dropout(0.3),\n",
    "    SimpleRNN(32, activation='relu'),\n",
    "    Dropout(0.3),\n",
    "    Dense(16, activation='relu'),\n",
    "    Dense(1, activation='sigmoid')\n",
    "])\n",
    "\n",
    "# Compile the model\n",
    "rnn_model.compile(optimizer=Adam(learning_rate=0.001), \n",
    "                  loss='binary_crossentropy', \n",
    "                  metrics=['accuracy'])\n",
    "\n",
    "# Train the RNN model\n",
    "history = rnn_model.fit(\n",
    "    X_train, y_train, \n",
    "    epochs=100, \n",
    "    batch_size=32, \n",
    "    validation_split=0.2,\n",
    "    verbose=1\n",
    ")\n",
    "\n",
    "print(\"Model initialization and training complete.\")\n"
   ]
  },
  {
   "cell_type": "markdown",
   "metadata": {},
   "source": [
    "## Save the model"
   ]
  },
  {
   "cell_type": "code",
   "execution_count": null,
   "metadata": {},
   "outputs": [],
   "source": [
    "\n",
    "import joblib\n",
    "\n",
    "# Save the trained RNN model\n",
    "model_filename = 'brain_tumor_detection_rnn_model.h5'\n",
    "rnn_model.save(model_filename)\n",
    "\n",
    "# Save the scaler\n",
    "scaler_filename = 'brain_tumor_scaler_rnn.joblib'\n",
    "joblib.dump(scaler, scaler_filename)\n",
    "\n",
    "print(f\"Trained RNN model saved to {model_filename}\")\n",
    "print(f\"Scaler saved to {scaler_filename}\")\n"
   ]
  },
  {
   "cell_type": "markdown",
   "metadata": {},
   "source": [
    "## Evaluate the model"
   ]
  },
  {
   "cell_type": "code",
   "execution_count": null,
   "metadata": {},
   "outputs": [],
   "source": [
    "\n",
    "from sklearn.metrics import classification_report, confusion_matrix\n",
    "\n",
    "# Make predictions using the model\n",
    "y_pred = (rnn_model.predict(X_test) > 0.5).astype(int).flatten()\n",
    "\n",
    "# Evaluate the model\n",
    "cm = confusion_matrix(y_test, y_pred)\n",
    "print(\"Confusion Matrix:\")\n",
    "print(cm)\n",
    "print(\"\\nClassification Report:\")\n",
    "print(classification_report(y_test, y_pred))\n"
   ]
  },
  {
   "cell_type": "markdown",
   "metadata": {},
   "source": [
    "\n",
    "## Visualization of Model Performance\n",
    "\n",
    "Visualizations play a crucial role in understanding the model's performance. Here are some key visualizations we will create:\n",
    "\n",
    "1. **Confusion Matrix**: Shows the number of correct and incorrect predictions, providing a quick overview of model accuracy.\n",
    "2. **ROC Curve and AUC**: Helps to visualize the trade-off between sensitivity (recall) and specificity.\n",
    "3. **Precision-Recall Curve**: Especially useful in cases of imbalanced datasets, this curve helps to understand the trade-off between precision and recall.\n",
    "4. **Misclassified Images**: Provides insights into where the model is making mistakes by displaying some misclassified examples.\n",
    "\n",
    "### Confusion Matrix:"
   ]
  },
  {
   "cell_type": "code",
   "execution_count": null,
   "metadata": {},
   "outputs": [],
   "source": [
    "\n",
    "import seaborn as sns\n",
    "import matplotlib.pyplot as plt\n",
    "\n",
    "# Confusion Matrix\n",
    "cm = confusion_matrix(y_test, y_pred)\n",
    "sns.heatmap(cm, annot=True, fmt=\"d\", cmap=\"Blues\")\n",
    "plt.xlabel('Predicted')\n",
    "plt.ylabel('Actual')\n",
    "plt.title('Confusion Matrix')\n",
    "plt.show()\n"
   ]
  },
  {
   "cell_type": "markdown",
   "metadata": {},
   "source": [
    "## "
   ]
  },
  {
   "cell_type": "markdown",
   "metadata": {},
   "source": [
    "### ROC Curve and AUC:"
   ]
  },
  {
   "cell_type": "code",
   "execution_count": null,
   "metadata": {},
   "outputs": [],
   "source": [
    "\n",
    "from sklearn.metrics import roc_curve, auc\n",
    "\n",
    "# ROC Curve and AUC\n",
    "y_pred_proba = rnn_model.predict(X_test).flatten()\n",
    "fpr, tpr, _ = roc_curve(y_test, y_pred_proba)\n",
    "roc_auc = auc(fpr, tpr)\n",
    "\n",
    "plt.figure()\n",
    "plt.plot(fpr, tpr, color='darkorange', lw=2, label='ROC curve (area = %0.2f)' % roc_auc)\n",
    "plt.plot([0, 1], [0, 1], color='navy', lw=2, linestyle='--')\n",
    "plt.xlim([0.0, 1.0])\n",
    "plt.ylim([0.0, 1.05])\n",
    "plt.xlabel('False Positive Rate')\n",
    "plt.ylabel('True Positive Rate')\n",
    "plt.title('Receiver Operating Characteristic')\n",
    "plt.legend(loc=\"lower right\")\n",
    "plt.show()"
   ]
  },
  {
   "cell_type": "markdown",
   "metadata": {},
   "source": [
    "### Precision-Recall Curve:"
   ]
  },
  {
   "cell_type": "code",
   "execution_count": null,
   "metadata": {},
   "outputs": [],
   "source": [
    "\n",
    "from sklearn.metrics import precision_recall_curve\n",
    "\n",
    "# Precision-Recall Curve\n",
    "precision, recall, _ = precision_recall_curve(y_test, y_pred_proba)\n",
    "\n",
    "plt.figure()\n",
    "plt.plot(recall, precision, lw=2, color='blue')\n",
    "plt.xlabel('Recall')\n",
    "plt.ylabel('Precision')\n",
    "plt.title('Precision-Recall Curve')\n",
    "plt.show()\n"
   ]
  },
  {
   "cell_type": "markdown",
   "metadata": {},
   "source": [
    "### Misclassified Images:"
   ]
  },
  {
   "cell_type": "code",
   "execution_count": null,
   "metadata": {},
   "outputs": [],
   "source": [
    "\n",
    "# Misclassified Images\n",
    "misclassified_indices = np.where(y_test != y_pred)[0]\n",
    "\n",
    "for index in misclassified_indices:\n",
    "    plt.imshow(X_test[index].reshape(64, 64), cmap='gray')\n",
    "    plt.title(f\"True Label: {y_test[index]}, Predicted: {y_pred[index]}\")\n",
    "    plt.show()\n",
    "    "
   ]
  }
 ],
 "metadata": {
  "kernelspec": {
   "display_name": "Python 3",
   "language": "python",
   "name": "python3"
  },
  "language_info": {
   "codemirror_mode": {
    "name": "ipython",
    "version": 3
   },
   "file_extension": ".py",
   "mimetype": "text/x-python",
   "name": "python",
   "nbconvert_exporter": "python",
   "pygments_lexer": "ipython3",
   "version": "3.12.3"
  }
 },
 "nbformat": 4,
 "nbformat_minor": 2
}
